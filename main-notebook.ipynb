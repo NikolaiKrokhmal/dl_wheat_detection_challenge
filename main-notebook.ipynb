{
 "cells": [
  {
   "metadata": {},
   "cell_type": "code",
   "outputs": [],
   "execution_count": null,
   "source": [
    "%load_ext autoreload\n",
    "%autoreload 2\n"
   ],
   "id": "e0857a4ad33193ec"
  },
  {
   "cell_type": "code",
   "id": "initial_id",
   "metadata": {
    "collapsed": true,
    "ExecuteTime": {
     "end_time": "2025-07-21T07:11:58.733710Z",
     "start_time": "2025-07-21T07:11:01.934875Z"
    }
   },
   "source": [
    "# import numpy as np\n",
    "# import pandas as pd\n",
    "# import matplotlib.pyplot as plt\n",
    "# import matplotlib.patches as patches\n",
    "#\n",
    "# from utils import set_seed\n",
    "#\n",
    "# import torch\n",
    "# import torch.nn as nn\n",
    "# import torch.nn.functional as F\n",
    "# from torch.utils.data import Dataset, DataLoader, random_split\n",
    "#\n",
    "# import torchvision.transforms as T\n",
    "# import albumentations as A\n",
    "# from albumentations.pytorch import ToTensorV2\n",
    "#\n",
    "# from sklearn import model_selection\n",
    "# from sklearn.model_selection import train_test_split\n",
    "# import shutil\n",
    "#\n",
    "# import os\n",
    "# from PIL import Image\n",
    "# import cv2\n",
    "# import random\n",
    "# import math\n",
    "# from tqdm import tqdm\n",
    "# import glob\n",
    "# import re\n",
    "# from pathlib import Path\n",
    "# from typing import List, Dict, Any, Tuple\n",
    "# import logging\n",
    "# from collections import defaultdict\n",
    "# import shutil"
   ],
   "outputs": [],
   "execution_count": 1
  },
  {
   "metadata": {
    "ExecuteTime": {
     "end_time": "2025-07-21T07:11:58.798118Z",
     "start_time": "2025-07-21T07:11:58.749428Z"
    }
   },
   "cell_type": "code",
   "source": [
    "import numpy as np\n",
    "import pandas as pd\n",
    "import matplotlib.pyplot as plt\n",
    "import matplotlib.patches as patches\n",
    "\n",
    "import torch.cuda\n",
    "\n",
    "from utils import set_seed\n",
    "from model import Yolov1, YOLOv1Loss\n",
    "from data import get_all_dataloaders\n",
    "from train import train"
   ],
   "id": "5d63f1dab161ddbb",
   "outputs": [],
   "execution_count": 2
  },
  {
   "metadata": {},
   "cell_type": "markdown",
   "source": "# Set seed",
   "id": "1f6ddadecdb6f2ce"
  },
  {
   "metadata": {
    "ExecuteTime": {
     "end_time": "2025-07-21T07:12:01.071472Z",
     "start_time": "2025-07-21T07:12:00.673203Z"
    }
   },
   "cell_type": "code",
   "source": [
    "SEED = 42\n",
    "set_seed(SEED)"
   ],
   "id": "6a7ec373c23215b5",
   "outputs": [],
   "execution_count": 3
  },
  {
   "metadata": {},
   "cell_type": "markdown",
   "source": "# Data handeling",
   "id": "190f73128b873996"
  },
  {
   "metadata": {
    "ExecuteTime": {
     "end_time": "2025-07-21T07:12:01.279930Z",
     "start_time": "2025-07-21T07:12:01.081152Z"
    }
   },
   "cell_type": "code",
   "source": "df = pd.read_csv(\"./data/train.csv\")",
   "id": "bcb9c65c8f98b004",
   "outputs": [],
   "execution_count": 4
  },
  {
   "metadata": {
    "ExecuteTime": {
     "end_time": "2025-07-21T07:12:02.019649Z",
     "start_time": "2025-07-21T07:12:01.315601Z"
    }
   },
   "cell_type": "code",
   "source": [
    "df_show = []\n",
    "columns = df . columns\n",
    "for i in columns :\n",
    "    types = df[i] . dtypes\n",
    "    unique_data = df[i] . nunique()\n",
    "    NAN_value=df[i].isnull().sum()\n",
    "    duplicated= df.duplicated().sum()\n",
    "\n",
    "    df_show . append ([i , types , unique_data , NAN_value,duplicated])\n",
    "\n",
    "df_info = pd . DataFrame (df_show)\n",
    "df_info . columns =['name of column' , 'types' ,'unique_data' , 'NAN value',\"duplicated\"]\n",
    "\n",
    "df_info.style.highlight_max(color = 'green', axis = 0)"
   ],
   "id": "f3daad5c54b1cf58",
   "outputs": [
    {
     "data": {
      "text/plain": [
       "<pandas.io.formats.style.Styler at 0x2da8a876410>"
      ],
      "text/html": [
       "<style type=\"text/css\">\n",
       "#T_8fe60_row0_col1, #T_8fe60_row0_col3, #T_8fe60_row0_col4, #T_8fe60_row1_col0, #T_8fe60_row1_col3, #T_8fe60_row1_col4, #T_8fe60_row2_col3, #T_8fe60_row2_col4, #T_8fe60_row3_col1, #T_8fe60_row3_col2, #T_8fe60_row3_col3, #T_8fe60_row3_col4, #T_8fe60_row4_col1, #T_8fe60_row4_col3, #T_8fe60_row4_col4 {\n",
       "  background-color: green;\n",
       "}\n",
       "</style>\n",
       "<table id=\"T_8fe60\">\n",
       "  <thead>\n",
       "    <tr>\n",
       "      <th class=\"blank level0\" >&nbsp;</th>\n",
       "      <th id=\"T_8fe60_level0_col0\" class=\"col_heading level0 col0\" >name of column</th>\n",
       "      <th id=\"T_8fe60_level0_col1\" class=\"col_heading level0 col1\" >types</th>\n",
       "      <th id=\"T_8fe60_level0_col2\" class=\"col_heading level0 col2\" >unique_data</th>\n",
       "      <th id=\"T_8fe60_level0_col3\" class=\"col_heading level0 col3\" >NAN value</th>\n",
       "      <th id=\"T_8fe60_level0_col4\" class=\"col_heading level0 col4\" >duplicated</th>\n",
       "    </tr>\n",
       "  </thead>\n",
       "  <tbody>\n",
       "    <tr>\n",
       "      <th id=\"T_8fe60_level0_row0\" class=\"row_heading level0 row0\" >0</th>\n",
       "      <td id=\"T_8fe60_row0_col0\" class=\"data row0 col0\" >image_id</td>\n",
       "      <td id=\"T_8fe60_row0_col1\" class=\"data row0 col1\" >object</td>\n",
       "      <td id=\"T_8fe60_row0_col2\" class=\"data row0 col2\" >3373</td>\n",
       "      <td id=\"T_8fe60_row0_col3\" class=\"data row0 col3\" >0</td>\n",
       "      <td id=\"T_8fe60_row0_col4\" class=\"data row0 col4\" >0</td>\n",
       "    </tr>\n",
       "    <tr>\n",
       "      <th id=\"T_8fe60_level0_row1\" class=\"row_heading level0 row1\" >1</th>\n",
       "      <td id=\"T_8fe60_row1_col0\" class=\"data row1 col0\" >width</td>\n",
       "      <td id=\"T_8fe60_row1_col1\" class=\"data row1 col1\" >int64</td>\n",
       "      <td id=\"T_8fe60_row1_col2\" class=\"data row1 col2\" >1</td>\n",
       "      <td id=\"T_8fe60_row1_col3\" class=\"data row1 col3\" >0</td>\n",
       "      <td id=\"T_8fe60_row1_col4\" class=\"data row1 col4\" >0</td>\n",
       "    </tr>\n",
       "    <tr>\n",
       "      <th id=\"T_8fe60_level0_row2\" class=\"row_heading level0 row2\" >2</th>\n",
       "      <td id=\"T_8fe60_row2_col0\" class=\"data row2 col0\" >height</td>\n",
       "      <td id=\"T_8fe60_row2_col1\" class=\"data row2 col1\" >int64</td>\n",
       "      <td id=\"T_8fe60_row2_col2\" class=\"data row2 col2\" >1</td>\n",
       "      <td id=\"T_8fe60_row2_col3\" class=\"data row2 col3\" >0</td>\n",
       "      <td id=\"T_8fe60_row2_col4\" class=\"data row2 col4\" >0</td>\n",
       "    </tr>\n",
       "    <tr>\n",
       "      <th id=\"T_8fe60_level0_row3\" class=\"row_heading level0 row3\" >3</th>\n",
       "      <td id=\"T_8fe60_row3_col0\" class=\"data row3 col0\" >bbox</td>\n",
       "      <td id=\"T_8fe60_row3_col1\" class=\"data row3 col1\" >object</td>\n",
       "      <td id=\"T_8fe60_row3_col2\" class=\"data row3 col2\" >147761</td>\n",
       "      <td id=\"T_8fe60_row3_col3\" class=\"data row3 col3\" >0</td>\n",
       "      <td id=\"T_8fe60_row3_col4\" class=\"data row3 col4\" >0</td>\n",
       "    </tr>\n",
       "    <tr>\n",
       "      <th id=\"T_8fe60_level0_row4\" class=\"row_heading level0 row4\" >4</th>\n",
       "      <td id=\"T_8fe60_row4_col0\" class=\"data row4 col0\" >source</td>\n",
       "      <td id=\"T_8fe60_row4_col1\" class=\"data row4 col1\" >object</td>\n",
       "      <td id=\"T_8fe60_row4_col2\" class=\"data row4 col2\" >7</td>\n",
       "      <td id=\"T_8fe60_row4_col3\" class=\"data row4 col3\" >0</td>\n",
       "      <td id=\"T_8fe60_row4_col4\" class=\"data row4 col4\" >0</td>\n",
       "    </tr>\n",
       "  </tbody>\n",
       "</table>\n"
      ]
     },
     "execution_count": 5,
     "metadata": {},
     "output_type": "execute_result"
    }
   ],
   "execution_count": 5
  },
  {
   "metadata": {
    "ExecuteTime": {
     "end_time": "2025-07-21T07:12:07.738001Z",
     "start_time": "2025-07-21T07:12:02.039920Z"
    }
   },
   "cell_type": "code",
   "source": [
    "root_dir = './'\n",
    "data_dir = './data/train/'\n",
    "csv_file = './data/train.csv'\n",
    "batch_size = 8\n",
    "epochs = 20\n",
    "img_size = 448\n",
    "learning_rate = 1e-4\n",
    "device = torch.device('cuda' if torch.cuda.is_available() else 'cpu')\n",
    "\n",
    "# Dataloaders\n",
    "train_loader, aug_loader, val_loader = get_all_dataloaders(\n",
    "    data_dir=data_dir,\n",
    "    csv_file=csv_file,\n",
    "    batch_size=batch_size,\n",
    "    val_split=0.2,\n",
    "    seed=SEED\n",
    ")\n",
    "\n"
   ],
   "id": "ba9234b83ce6140b",
   "outputs": [
    {
     "name": "stdout",
     "output_type": "stream",
     "text": [
      "Dataset initialized with 3373 images\n",
      "Total annotations: 147793\n",
      "Dataset initialized with 3373 images\n",
      "Total annotations: 147793\n"
     ]
    }
   ],
   "execution_count": 6
  },
  {
   "metadata": {
    "ExecuteTime": {
     "end_time": "2025-07-21T07:12:10.126790Z",
     "start_time": "2025-07-21T07:12:07.749735Z"
    }
   },
   "cell_type": "code",
   "source": [
    "# Model\n",
    "model = Yolov1(7, 2, 1).to(device)\n",
    "\n",
    "# Optimizer and loss\n",
    "optimizer = torch.optim.Adam(model.parameters(), lr=learning_rate)\n",
    "criterion = YOLOv1Loss(7, 2, 1)\n"
   ],
   "id": "1ab6d21e9cb1f4f0",
   "outputs": [
    {
     "name": "stderr",
     "output_type": "stream",
     "text": [
      "C:\\Users\\edenkor\\PyCharmMiscProject\\.venv\\Lib\\site-packages\\torchvision\\models\\_utils.py:135: UserWarning: Using 'weights' as positional parameter(s) is deprecated since 0.13 and may be removed in the future. Please use keyword parameter(s) instead.\n",
      "  warnings.warn(\n"
     ]
    }
   ],
   "execution_count": 7
  },
  {
   "metadata": {
    "ExecuteTime": {
     "end_time": "2025-07-21T08:33:30.524864Z",
     "start_time": "2025-07-21T07:12:10.150713Z"
    }
   },
   "cell_type": "code",
   "source": [
    "# Train\n",
    "history = train(model, train_loader, val_loader, optimizer, criterion, epochs, device)"
   ],
   "id": "370884cedb79b8a6",
   "outputs": [
    {
     "name": "stderr",
     "output_type": "stream",
     "text": [
      "                                                                         \r"
     ]
    },
    {
     "name": "stdout",
     "output_type": "stream",
     "text": [
      "Epoch [1/20] - Train Loss: 37.0798\n",
      "           Validation Loss: 31.8679\n"
     ]
    },
    {
     "name": "stderr",
     "output_type": "stream",
     "text": [
      "                                                                        \r"
     ]
    },
    {
     "name": "stdout",
     "output_type": "stream",
     "text": [
      "Epoch [2/20] - Train Loss: 31.6177\n",
      "           Validation Loss: 30.7389\n"
     ]
    },
    {
     "name": "stderr",
     "output_type": "stream",
     "text": [
      "                                                                           \r"
     ]
    },
    {
     "name": "stdout",
     "output_type": "stream",
     "text": [
      "Epoch [3/20] - Train Loss: 4386362.5482\n",
      "           Validation Loss: 180269.2753\n"
     ]
    },
    {
     "name": "stderr",
     "output_type": "stream",
     "text": [
      "                                                                           \r"
     ]
    },
    {
     "name": "stdout",
     "output_type": "stream",
     "text": [
      "Epoch [4/20] - Train Loss: 12314.8609\n",
      "           Validation Loss: 950.4589\n"
     ]
    },
    {
     "name": "stderr",
     "output_type": "stream",
     "text": [
      "                                                                           \r"
     ]
    },
    {
     "name": "stdout",
     "output_type": "stream",
     "text": [
      "Epoch [5/20] - Train Loss: 1406.3931\n",
      "           Validation Loss: 301.8204\n"
     ]
    },
    {
     "name": "stderr",
     "output_type": "stream",
     "text": [
      "                                                                           \r"
     ]
    },
    {
     "name": "stdout",
     "output_type": "stream",
     "text": [
      "Epoch [6/20] - Train Loss: 757.6815\n",
      "           Validation Loss: 136.5783\n"
     ]
    },
    {
     "name": "stderr",
     "output_type": "stream",
     "text": [
      "                                                                           \r"
     ]
    },
    {
     "name": "stdout",
     "output_type": "stream",
     "text": [
      "Epoch [7/20] - Train Loss: 494.0704\n",
      "           Validation Loss: 136.0790\n"
     ]
    },
    {
     "name": "stderr",
     "output_type": "stream",
     "text": [
      "                                                                           \r"
     ]
    },
    {
     "name": "stdout",
     "output_type": "stream",
     "text": [
      "Epoch [8/20] - Train Loss: 409.1661\n",
      "           Validation Loss: 130.4873\n"
     ]
    },
    {
     "name": "stderr",
     "output_type": "stream",
     "text": [
      "                                                                           \r"
     ]
    },
    {
     "name": "stdout",
     "output_type": "stream",
     "text": [
      "Epoch [9/20] - Train Loss: 359.4512\n",
      "           Validation Loss: 117.3712\n"
     ]
    },
    {
     "name": "stderr",
     "output_type": "stream",
     "text": [
      "                                                                        \r"
     ]
    },
    {
     "name": "stdout",
     "output_type": "stream",
     "text": [
      "Epoch [10/20] - Train Loss: 288.1102\n",
      "           Validation Loss: 348.1897\n"
     ]
    },
    {
     "name": "stderr",
     "output_type": "stream",
     "text": [
      "                                                                          \r"
     ]
    },
    {
     "name": "stdout",
     "output_type": "stream",
     "text": [
      "Epoch [11/20] - Train Loss: 268.8100\n",
      "           Validation Loss: 97.2438\n"
     ]
    },
    {
     "name": "stderr",
     "output_type": "stream",
     "text": [
      "                                                                            \r"
     ]
    },
    {
     "name": "stdout",
     "output_type": "stream",
     "text": [
      "Epoch [12/20] - Train Loss: 297.1115\n",
      "           Validation Loss: 92.5650\n"
     ]
    },
    {
     "name": "stderr",
     "output_type": "stream",
     "text": [
      "                                                                        \r"
     ]
    },
    {
     "name": "stdout",
     "output_type": "stream",
     "text": [
      "Epoch [13/20] - Train Loss: 203.7591\n",
      "           Validation Loss: 176.5366\n"
     ]
    },
    {
     "name": "stderr",
     "output_type": "stream",
     "text": [
      "                                                                           \r"
     ]
    },
    {
     "name": "stdout",
     "output_type": "stream",
     "text": [
      "Epoch [14/20] - Train Loss: 261.1586\n",
      "           Validation Loss: 97.8310\n"
     ]
    },
    {
     "name": "stderr",
     "output_type": "stream",
     "text": [
      "                                                                         \r"
     ]
    },
    {
     "name": "stdout",
     "output_type": "stream",
     "text": [
      "Epoch [15/20] - Train Loss: 156.8469\n",
      "           Validation Loss: 92.3577\n"
     ]
    },
    {
     "name": "stderr",
     "output_type": "stream",
     "text": [
      "                                                                         \r"
     ]
    },
    {
     "name": "stdout",
     "output_type": "stream",
     "text": [
      "Epoch [16/20] - Train Loss: 139.5725\n",
      "           Validation Loss: 72.4615\n"
     ]
    },
    {
     "name": "stderr",
     "output_type": "stream",
     "text": [
      "                                                                            \r"
     ]
    },
    {
     "name": "stdout",
     "output_type": "stream",
     "text": [
      "Epoch [17/20] - Train Loss: 9420295.2392\n",
      "           Validation Loss: 1844.3901\n"
     ]
    },
    {
     "name": "stderr",
     "output_type": "stream",
     "text": [
      "                                                                            \r"
     ]
    },
    {
     "name": "stdout",
     "output_type": "stream",
     "text": [
      "Epoch [18/20] - Train Loss: 3838.1203\n",
      "           Validation Loss: 458.8897\n"
     ]
    },
    {
     "name": "stderr",
     "output_type": "stream",
     "text": [
      "                                                                            \r"
     ]
    },
    {
     "name": "stdout",
     "output_type": "stream",
     "text": [
      "Epoch [19/20] - Train Loss: 47558.5406\n",
      "           Validation Loss: 361.6645\n"
     ]
    },
    {
     "name": "stderr",
     "output_type": "stream",
     "text": [
      "                                                                            \r"
     ]
    },
    {
     "name": "stdout",
     "output_type": "stream",
     "text": [
      "Epoch [20/20] - Train Loss: 1182.6047\n",
      "           Validation Loss: 213.4025\n"
     ]
    }
   ],
   "execution_count": 8
  },
  {
   "metadata": {},
   "cell_type": "markdown",
   "source": "",
   "id": "c709410b6ba72167"
  },
  {
   "metadata": {
    "ExecuteTime": {
     "end_time": "2025-07-21T08:33:30.586963Z",
     "start_time": "2025-07-21T08:33:30.575478Z"
    }
   },
   "cell_type": "code",
   "source": [
    "# from data.data_loaders import get_all_dataloaders\n",
    "#\n",
    "# root_dir = './'\n",
    "# data_dir = './data/'\n",
    "# csv_file = './data/train.csv'\n",
    "#\n",
    "# batch_size = 8\n",
    "# epochs = 5\n",
    "# img_size = 448\n",
    "# learning_rate = 1e-4\n",
    "# device = 'cuda:1' if torch.cuda.is_available() else 'cpu'\n",
    "#\n",
    "# # Dataloaders\n",
    "# train_loader, aug_loader, val_loader = get_all_dataloaders(\n",
    "#     data_dir=data_dir,\n",
    "#     csv_file=csv_file,\n",
    "#     batch_size=batch_size,\n",
    "#     val_split=0.2,\n",
    "#     seed=SEED\n",
    "# )"
   ],
   "id": "2ef8096188e017a1",
   "outputs": [],
   "execution_count": 9
  },
  {
   "metadata": {
    "ExecuteTime": {
     "end_time": "2025-07-21T08:33:30.615876Z",
     "start_time": "2025-07-21T08:33:30.602684Z"
    }
   },
   "cell_type": "code",
   "source": [
    "# from model import Yolov1, YOLOv1Loss\n",
    "# from train import train\n",
    "# # Model\n",
    "# model = Yolov1(7, 2, 1).to(device)\n",
    "#\n",
    "# # Optimizer and loss\n",
    "# optimizer = torch.optim.Adam(model.parameters(), lr=learning_rate)\n",
    "# criterion = YOLOv1Loss(7, 2, 1)\n",
    "#\n",
    "# # Train\n",
    "# train(model, train_loader, val_loader, optimizer, criterion, epochs, device)"
   ],
   "id": "2c142953409bf59d",
   "outputs": [],
   "execution_count": 10
  },
  {
   "metadata": {
    "ExecuteTime": {
     "end_time": "2025-07-21T08:33:30.640244Z",
     "start_time": "2025-07-21T08:33:30.634067Z"
    }
   },
   "cell_type": "code",
   "source": [
    "# temp=torch.zeros(7,7,11)\n",
    "#\n",
    "# if not temp[6,6,0]:\n",
    "#     print(\"AHHHHHHHHHHHHHHHHHHHHHH\")"
   ],
   "id": "1c6b0be9e6462983",
   "outputs": [],
   "execution_count": 11
  }
 ],
 "metadata": {
  "kernelspec": {
   "display_name": "Python 3",
   "language": "python",
   "name": "python3"
  },
  "language_info": {
   "codemirror_mode": {
    "name": "ipython",
    "version": 2
   },
   "file_extension": ".py",
   "mimetype": "text/x-python",
   "name": "python",
   "nbconvert_exporter": "python",
   "pygments_lexer": "ipython2",
   "version": "2.7.6"
  }
 },
 "nbformat": 4,
 "nbformat_minor": 5
}
