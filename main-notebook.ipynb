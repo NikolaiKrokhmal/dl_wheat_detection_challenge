{
 "cells": [
  {
   "cell_type": "code",
   "id": "initial_id",
   "metadata": {
    "collapsed": true,
    "ExecuteTime": {
     "end_time": "2025-07-20T13:48:02.295987Z",
     "start_time": "2025-07-20T13:48:02.257649Z"
    }
   },
   "source": [
    "import numpy as np\n",
    "import pandas as pd\n",
    "import matplotlib.pyplot as plt\n",
    "import matplotlib.patches as patches\n",
    "\n",
    "from utils import set_seed\n",
    "\n",
    "import torch\n",
    "import torch.nn as nn\n",
    "import torch.nn.functional as F\n",
    "from torch.utils.data import Dataset, DataLoader, random_split\n",
    "\n",
    "import torchvision.transforms as T\n",
    "import albumentations as A\n",
    "from albumentations.pytorch import ToTensorV2\n",
    "\n",
    "from sklearn import model_selection\n",
    "from sklearn.model_selection import train_test_split\n",
    "import shutil\n",
    "\n",
    "import os\n",
    "from PIL import Image\n",
    "import cv2\n",
    "import random\n",
    "import math\n",
    "from tqdm import tqdm\n",
    "import glob\n",
    "import re\n",
    "from pathlib import Path\n",
    "from typing import List, Dict, Any, Tuple\n",
    "import logging\n",
    "from collections import defaultdict\n",
    "import shutil"
   ],
   "outputs": [
    {
     "ename": "ModuleNotFoundError",
     "evalue": "No module named 'torch'",
     "output_type": "error",
     "traceback": [
      "\u001B[1;31m---------------------------------------------------------------------------\u001B[0m",
      "\u001B[1;31mModuleNotFoundError\u001B[0m                       Traceback (most recent call last)",
      "Cell \u001B[1;32mIn[12], line 5\u001B[0m\n\u001B[0;32m      3\u001B[0m \u001B[38;5;28;01mimport\u001B[39;00m \u001B[38;5;21;01mmatplotlib\u001B[39;00m\u001B[38;5;21;01m.\u001B[39;00m\u001B[38;5;21;01mpyplot\u001B[39;00m \u001B[38;5;28;01mas\u001B[39;00m \u001B[38;5;21;01mplt\u001B[39;00m\n\u001B[0;32m      4\u001B[0m \u001B[38;5;28;01mimport\u001B[39;00m \u001B[38;5;21;01mmatplotlib\u001B[39;00m\u001B[38;5;21;01m.\u001B[39;00m\u001B[38;5;21;01mpatches\u001B[39;00m \u001B[38;5;28;01mas\u001B[39;00m \u001B[38;5;21;01mpatches\u001B[39;00m\n\u001B[1;32m----> 5\u001B[0m \u001B[38;5;28;01mimport\u001B[39;00m \u001B[38;5;21;01mtorch\u001B[39;00m\n\u001B[0;32m      7\u001B[0m \u001B[38;5;28;01mfrom\u001B[39;00m \u001B[38;5;21;01mutils\u001B[39;00m \u001B[38;5;28;01mimport\u001B[39;00m set_seed\n\u001B[0;32m      9\u001B[0m \u001B[38;5;28;01mimport\u001B[39;00m \u001B[38;5;21;01mtorch\u001B[39;00m\u001B[38;5;21;01m.\u001B[39;00m\u001B[38;5;21;01mnn\u001B[39;00m \u001B[38;5;28;01mas\u001B[39;00m \u001B[38;5;21;01mnn\u001B[39;00m\n",
      "\u001B[1;31mModuleNotFoundError\u001B[0m: No module named 'torch'"
     ]
    }
   ],
   "execution_count": 12
  },
  {
   "metadata": {},
   "cell_type": "markdown",
   "source": "# Set seed",
   "id": "1f6ddadecdb6f2ce"
  },
  {
   "metadata": {
    "ExecuteTime": {
     "end_time": "2025-07-20T13:39:33.675241100Z",
     "start_time": "2025-07-20T11:30:05.425775Z"
    }
   },
   "cell_type": "code",
   "source": [
    "SEED = 42\n",
    "set_seed(SEED)"
   ],
   "id": "6a7ec373c23215b5",
   "outputs": [],
   "execution_count": 29
  },
  {
   "metadata": {},
   "cell_type": "markdown",
   "source": "# Data handeling",
   "id": "190f73128b873996"
  },
  {
   "metadata": {
    "ExecuteTime": {
     "end_time": "2025-07-20T13:39:33.676241Z",
     "start_time": "2025-07-20T13:18:34.674485Z"
    }
   },
   "cell_type": "code",
   "source": "df = pd.read_csv(\"./data/train.csv\")",
   "id": "bcb9c65c8f98b004",
   "outputs": [],
   "execution_count": 36
  },
  {
   "metadata": {
    "ExecuteTime": {
     "end_time": "2025-07-20T13:39:33.698242700Z",
     "start_time": "2025-07-20T13:18:37.859878Z"
    }
   },
   "cell_type": "code",
   "source": [
    "df_show = []\n",
    "columns = df . columns\n",
    "for i in columns :\n",
    "    types = df[i] . dtypes\n",
    "    unique_data = df[i] . nunique()\n",
    "    NAN_value=df[i].isnull().sum()\n",
    "    duplicated= df.duplicated().sum()\n",
    "\n",
    "    df_show . append ([i , types , unique_data , NAN_value,duplicated])\n",
    "\n",
    "df_info = pd . DataFrame (df_show)\n",
    "df_info . columns =['name of column' , 'types' ,'unique_data' , 'NAN value',\"duplicated\"]\n",
    "\n",
    "df_info.style.highlight_max(color = 'green', axis = 0)"
   ],
   "id": "f3daad5c54b1cf58",
   "outputs": [
    {
     "data": {
      "text/plain": [
       "<pandas.io.formats.style.Styler at 0x2850894e990>"
      ],
      "text/html": [
       "<style type=\"text/css\">\n",
       "#T_33020_row0_col1, #T_33020_row0_col3, #T_33020_row0_col4, #T_33020_row1_col0, #T_33020_row1_col3, #T_33020_row1_col4, #T_33020_row2_col3, #T_33020_row2_col4, #T_33020_row3_col1, #T_33020_row3_col2, #T_33020_row3_col3, #T_33020_row3_col4, #T_33020_row4_col1, #T_33020_row4_col3, #T_33020_row4_col4 {\n",
       "  background-color: green;\n",
       "}\n",
       "</style>\n",
       "<table id=\"T_33020\">\n",
       "  <thead>\n",
       "    <tr>\n",
       "      <th class=\"blank level0\" >&nbsp;</th>\n",
       "      <th id=\"T_33020_level0_col0\" class=\"col_heading level0 col0\" >name of column</th>\n",
       "      <th id=\"T_33020_level0_col1\" class=\"col_heading level0 col1\" >types</th>\n",
       "      <th id=\"T_33020_level0_col2\" class=\"col_heading level0 col2\" >unique_data</th>\n",
       "      <th id=\"T_33020_level0_col3\" class=\"col_heading level0 col3\" >NAN value</th>\n",
       "      <th id=\"T_33020_level0_col4\" class=\"col_heading level0 col4\" >duplicated</th>\n",
       "    </tr>\n",
       "  </thead>\n",
       "  <tbody>\n",
       "    <tr>\n",
       "      <th id=\"T_33020_level0_row0\" class=\"row_heading level0 row0\" >0</th>\n",
       "      <td id=\"T_33020_row0_col0\" class=\"data row0 col0\" >image_id</td>\n",
       "      <td id=\"T_33020_row0_col1\" class=\"data row0 col1\" >object</td>\n",
       "      <td id=\"T_33020_row0_col2\" class=\"data row0 col2\" >3373</td>\n",
       "      <td id=\"T_33020_row0_col3\" class=\"data row0 col3\" >0</td>\n",
       "      <td id=\"T_33020_row0_col4\" class=\"data row0 col4\" >0</td>\n",
       "    </tr>\n",
       "    <tr>\n",
       "      <th id=\"T_33020_level0_row1\" class=\"row_heading level0 row1\" >1</th>\n",
       "      <td id=\"T_33020_row1_col0\" class=\"data row1 col0\" >width</td>\n",
       "      <td id=\"T_33020_row1_col1\" class=\"data row1 col1\" >int64</td>\n",
       "      <td id=\"T_33020_row1_col2\" class=\"data row1 col2\" >1</td>\n",
       "      <td id=\"T_33020_row1_col3\" class=\"data row1 col3\" >0</td>\n",
       "      <td id=\"T_33020_row1_col4\" class=\"data row1 col4\" >0</td>\n",
       "    </tr>\n",
       "    <tr>\n",
       "      <th id=\"T_33020_level0_row2\" class=\"row_heading level0 row2\" >2</th>\n",
       "      <td id=\"T_33020_row2_col0\" class=\"data row2 col0\" >height</td>\n",
       "      <td id=\"T_33020_row2_col1\" class=\"data row2 col1\" >int64</td>\n",
       "      <td id=\"T_33020_row2_col2\" class=\"data row2 col2\" >1</td>\n",
       "      <td id=\"T_33020_row2_col3\" class=\"data row2 col3\" >0</td>\n",
       "      <td id=\"T_33020_row2_col4\" class=\"data row2 col4\" >0</td>\n",
       "    </tr>\n",
       "    <tr>\n",
       "      <th id=\"T_33020_level0_row3\" class=\"row_heading level0 row3\" >3</th>\n",
       "      <td id=\"T_33020_row3_col0\" class=\"data row3 col0\" >bbox</td>\n",
       "      <td id=\"T_33020_row3_col1\" class=\"data row3 col1\" >object</td>\n",
       "      <td id=\"T_33020_row3_col2\" class=\"data row3 col2\" >147761</td>\n",
       "      <td id=\"T_33020_row3_col3\" class=\"data row3 col3\" >0</td>\n",
       "      <td id=\"T_33020_row3_col4\" class=\"data row3 col4\" >0</td>\n",
       "    </tr>\n",
       "    <tr>\n",
       "      <th id=\"T_33020_level0_row4\" class=\"row_heading level0 row4\" >4</th>\n",
       "      <td id=\"T_33020_row4_col0\" class=\"data row4 col0\" >source</td>\n",
       "      <td id=\"T_33020_row4_col1\" class=\"data row4 col1\" >object</td>\n",
       "      <td id=\"T_33020_row4_col2\" class=\"data row4 col2\" >7</td>\n",
       "      <td id=\"T_33020_row4_col3\" class=\"data row4 col3\" >0</td>\n",
       "      <td id=\"T_33020_row4_col4\" class=\"data row4 col4\" >0</td>\n",
       "    </tr>\n",
       "  </tbody>\n",
       "</table>\n"
      ]
     },
     "execution_count": 37,
     "metadata": {},
     "output_type": "execute_result"
    }
   ],
   "execution_count": 37
  },
  {
   "metadata": {
    "ExecuteTime": {
     "end_time": "2025-07-20T13:39:33.700241300Z",
     "start_time": "2025-07-20T13:23:29.732658Z"
    }
   },
   "cell_type": "code",
   "source": [
    "from data.data_loaders import get_all_dataloaders\n",
    "\n",
    "root_dir = './'\n",
    "data_dir = './data/'\n",
    "csv_file = './data/train.csv'\n",
    "\n",
    "batch_size = 16\n",
    "epochs = 20\n",
    "img_size = 448\n",
    "learning_rate = 1e-4\n",
    "device = 'cuda' if torch.cuda.is_available() else 'cpu'\n",
    "\n",
    "# Dataloaders\n",
    "train_loader, aug_loader, val_loader = get_all_dataloaders(\n",
    "    data_dir=data_dir,\n",
    "    csv_file=csv_file,\n",
    "    batch_size=batch_size,\n",
    "    val_split=0.2,\n",
    "    seed=SEED\n",
    ")"
   ],
   "id": "2ef8096188e017a1",
   "outputs": [
    {
     "name": "stdout",
     "output_type": "stream",
     "text": [
      "Dataset initialized with 3373 images\n",
      "Total annotations: 147793\n",
      "Dataset initialized with 3373 images\n",
      "Total annotations: 147793\n"
     ]
    }
   ],
   "execution_count": 42
  },
  {
   "metadata": {},
   "cell_type": "code",
   "outputs": [],
   "execution_count": null,
   "source": [
    "from model import YOLOv1, YOLOv1Loss\n",
    "# Model\n",
    "model = YOLOv1(7, 2, 1).to(device)\n",
    "\n",
    "# Optimizer and loss\n",
    "optimizer = torch.optim.Adam(model.parameters(), lr=learning_rate)\n",
    "criterion = YOLOv1Loss(7, 2, 1)\n",
    "\n",
    "# Train\n",
    "train(model, train_loader, val_loader, optimizer, criterion, epochs, device)"
   ],
   "id": "2c142953409bf59d"
  },
  {
   "metadata": {
    "ExecuteTime": {
     "end_time": "2025-07-20T13:10:42.514673Z",
     "start_time": "2025-07-20T13:10:42.504405Z"
    }
   },
   "cell_type": "code",
   "source": [
    "temp=torch.zeros(7,7,11)\n",
    "\n",
    "if not temp[6,6,0]:\n",
    "    print(\"AHHHHHHHHHHHHHHHHHHHHHH\")"
   ],
   "id": "1c6b0be9e6462983",
   "outputs": [
    {
     "name": "stdout",
     "output_type": "stream",
     "text": [
      "AHHHHHHHHHHHHHHHHHHHHHH\n"
     ]
    }
   ],
   "execution_count": 35
  }
 ],
 "metadata": {
  "kernelspec": {
   "display_name": "Python 3",
   "language": "python",
   "name": "python3"
  },
  "language_info": {
   "codemirror_mode": {
    "name": "ipython",
    "version": 2
   },
   "file_extension": ".py",
   "mimetype": "text/x-python",
   "name": "python",
   "nbconvert_exporter": "python",
   "pygments_lexer": "ipython2",
   "version": "2.7.6"
  }
 },
 "nbformat": 4,
 "nbformat_minor": 5
}
